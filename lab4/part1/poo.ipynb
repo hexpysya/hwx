{
 "cells": [
  {
   "cell_type": "code",
   "execution_count": null,
   "metadata": {},
   "outputs": [],
   "source": [
    "import pandas as pd\n",
    "import numpy as np\n",
    "import time\n",
    "import seaborn as sns\n",
    "import matplotlib.pyplot as plt"
   ]
  },
  {
   "cell_type": "code",
   "execution_count": null,
   "metadata": {},
   "outputs": [],
   "source": [
    "def timer(func):\n",
    "    def inner(*args, **kwargs):\n",
    "        start = time.time()\n",
    "        result = func(*args, **kwargs)\n",
    "        end = time.time()\n",
    "        print(f\"{end - start:.3f} с\")\n",
    "        return result\n",
    "    return inner"
   ]
  },
  {
   "cell_type": "markdown",
   "metadata": {},
   "source": [
    "Завантанження та клінінг даних"
   ]
  },
  {
   "cell_type": "code",
   "execution_count": null,
   "metadata": {},
   "outputs": [],
   "source": [
    "# === pandas ===\n",
    "@timer\n",
    "def load1(filepath):\n",
    "    df = pd.read_csv(filepath, sep=\";\", na_values=\"?\", low_memory=False)\n",
    "    df.dropna(inplace=True)\n",
    "    return df\n",
    "\n",
    "# === numpy ===\n",
    "@timer\n",
    "def load2(filepath):\n",
    "    types = [\n",
    "    (\"Date\", \"U10\"),\n",
    "    (\"Time\", \"U8\"),\n",
    "    (\"Global_active_power\", \"f8\"),\n",
    "    (\"Global_reactive_power\", \"f8\"),\n",
    "    (\"Voltage\", \"f8\"),\n",
    "    (\"Global_intensity\", \"f8\"),\n",
    "    (\"Sub_metering_1\", \"f8\"),\n",
    "    (\"Sub_metering_2\", \"f8\"),\n",
    "    (\"Sub_metering_3\", \"f8\")\n",
    "]\n",
    "    arr = np.genfromtxt(\n",
    "        filepath, delimiter=\";\", dtype=types, names=True,\n",
    "        missing_values=\"?\", filling_values=np.nan, encoding=\"utf-8\"\n",
    "    )\n",
    "    num_cols = arr.dtype.names[2:]\n",
    "    arr = arr[~np.any([np.isnan(arr[col]) for col in num_cols], axis=0)]\n",
    "    \n",
    "    return arr"
   ]
  },
  {
   "cell_type": "code",
   "execution_count": null,
   "metadata": {},
   "outputs": [
    {
     "name": "stdout",
     "output_type": "stream",
     "text": [
      "2.082 с\n",
      "10.624 с\n"
     ]
    }
   ],
   "source": [
    "df = load1(\"data.txt\")\n",
    "arr = load2(\"data.txt\")"
   ]
  },
  {
   "cell_type": "code",
   "execution_count": null,
   "metadata": {},
   "outputs": [
    {
     "data": {
      "text/html": [
       "<div>\n",
       "<style scoped>\n",
       "    .dataframe tbody tr th:only-of-type {\n",
       "        vertical-align: middle;\n",
       "    }\n",
       "\n",
       "    .dataframe tbody tr th {\n",
       "        vertical-align: top;\n",
       "    }\n",
       "\n",
       "    .dataframe thead th {\n",
       "        text-align: right;\n",
       "    }\n",
       "</style>\n",
       "<table border=\"1\" class=\"dataframe\">\n",
       "  <thead>\n",
       "    <tr style=\"text-align: right;\">\n",
       "      <th></th>\n",
       "      <th>Date</th>\n",
       "      <th>Time</th>\n",
       "      <th>Global_active_power</th>\n",
       "      <th>Global_reactive_power</th>\n",
       "      <th>Voltage</th>\n",
       "      <th>Global_intensity</th>\n",
       "      <th>Sub_metering_1</th>\n",
       "      <th>Sub_metering_2</th>\n",
       "      <th>Sub_metering_3</th>\n",
       "    </tr>\n",
       "  </thead>\n",
       "  <tbody>\n",
       "    <tr>\n",
       "      <th>0</th>\n",
       "      <td>16/12/2006</td>\n",
       "      <td>17:24:00</td>\n",
       "      <td>4.216</td>\n",
       "      <td>0.418</td>\n",
       "      <td>234.84</td>\n",
       "      <td>18.4</td>\n",
       "      <td>0.0</td>\n",
       "      <td>1.0</td>\n",
       "      <td>17.0</td>\n",
       "    </tr>\n",
       "    <tr>\n",
       "      <th>1</th>\n",
       "      <td>16/12/2006</td>\n",
       "      <td>17:25:00</td>\n",
       "      <td>5.360</td>\n",
       "      <td>0.436</td>\n",
       "      <td>233.63</td>\n",
       "      <td>23.0</td>\n",
       "      <td>0.0</td>\n",
       "      <td>1.0</td>\n",
       "      <td>16.0</td>\n",
       "    </tr>\n",
       "    <tr>\n",
       "      <th>2</th>\n",
       "      <td>16/12/2006</td>\n",
       "      <td>17:26:00</td>\n",
       "      <td>5.374</td>\n",
       "      <td>0.498</td>\n",
       "      <td>233.29</td>\n",
       "      <td>23.0</td>\n",
       "      <td>0.0</td>\n",
       "      <td>2.0</td>\n",
       "      <td>17.0</td>\n",
       "    </tr>\n",
       "    <tr>\n",
       "      <th>3</th>\n",
       "      <td>16/12/2006</td>\n",
       "      <td>17:27:00</td>\n",
       "      <td>5.388</td>\n",
       "      <td>0.502</td>\n",
       "      <td>233.74</td>\n",
       "      <td>23.0</td>\n",
       "      <td>0.0</td>\n",
       "      <td>1.0</td>\n",
       "      <td>17.0</td>\n",
       "    </tr>\n",
       "    <tr>\n",
       "      <th>4</th>\n",
       "      <td>16/12/2006</td>\n",
       "      <td>17:28:00</td>\n",
       "      <td>3.666</td>\n",
       "      <td>0.528</td>\n",
       "      <td>235.68</td>\n",
       "      <td>15.8</td>\n",
       "      <td>0.0</td>\n",
       "      <td>1.0</td>\n",
       "      <td>17.0</td>\n",
       "    </tr>\n",
       "  </tbody>\n",
       "</table>\n",
       "</div>"
      ],
      "text/plain": [
       "         Date      Time  Global_active_power  Global_reactive_power  Voltage  \\\n",
       "0  16/12/2006  17:24:00                4.216                  0.418   234.84   \n",
       "1  16/12/2006  17:25:00                5.360                  0.436   233.63   \n",
       "2  16/12/2006  17:26:00                5.374                  0.498   233.29   \n",
       "3  16/12/2006  17:27:00                5.388                  0.502   233.74   \n",
       "4  16/12/2006  17:28:00                3.666                  0.528   235.68   \n",
       "\n",
       "   Global_intensity  Sub_metering_1  Sub_metering_2  Sub_metering_3  \n",
       "0              18.4             0.0             1.0            17.0  \n",
       "1              23.0             0.0             1.0            16.0  \n",
       "2              23.0             0.0             2.0            17.0  \n",
       "3              23.0             0.0             1.0            17.0  \n",
       "4              15.8             0.0             1.0            17.0  "
      ]
     },
     "metadata": {},
     "output_type": "display_data"
    }
   ],
   "source": [
    "df.head()"
   ]
  },
  {
   "cell_type": "code",
   "execution_count": null,
   "metadata": {},
   "outputs": [],
   "source": [
    "arr"
   ]
  },
  {
   "cell_type": "markdown",
   "metadata": {},
   "source": [
    "Завдання №1. \n",
    "Записи, у яких Global_active_power > 5 кВт."
   ]
  },
  {
   "cell_type": "code",
   "execution_count": null,
   "metadata": {},
   "outputs": [
    {
     "name": "stdout",
     "output_type": "stream",
     "text": [
      "0.009 с\n",
      "0.021 с\n"
     ]
    }
   ],
   "source": [
    "@timer\n",
    "def task1(df):\n",
    "    # === pandas ===\n",
    "    df_t1 = df[df[\"Global_active_power\"] > 5]\n",
    "    return df_t1\n",
    "@timer\n",
    "def task12(arr):\n",
    "    # === numpy ===\n",
    "    arr_t1 = arr[arr[\"Global_active_power\"] > 5] \n",
    "    return df_t1, arr_t1\n",
    "df_t1 = task1(df)\n",
    "arr_t1 = task12(arr)"
   ]
  },
  {
   "cell_type": "code",
   "execution_count": null,
   "metadata": {},
   "outputs": [],
   "source": [
    "df_t1.head()"
   ]
  },
  {
   "cell_type": "code",
   "execution_count": null,
   "metadata": {},
   "outputs": [],
   "source": [
    "arr_t1"
   ]
  },
  {
   "cell_type": "markdown",
   "metadata": {},
   "source": [
    "Завдання №2. Записи, де Voltage > 235 В."
   ]
  },
  {
   "cell_type": "code",
   "execution_count": null,
   "metadata": {},
   "outputs": [],
   "source": [
    "\n",
    "def task2(df, arr):\n",
    "    # === pandas ===\n",
    "    start = time.time()\n",
    "    df_t2 = df[df[\"Voltage\"] > 235]\n",
    "    print(f\"=== pandas === {time.time() - start:.3f} с\")\n",
    "\n",
    "    # === numpy ===\n",
    "    start = time.time()\n",
    "    arr_t2 = arr[arr[\"Voltage\"] > 235]\n",
    "    print(f\"=== numpy === {time.time() - start:.3f} с\")\n",
    "    return df_t2, arr_t2\n",
    "df_t2, arr_t2 = task2(df, arr)"
   ]
  },
  {
   "cell_type": "code",
   "execution_count": null,
   "metadata": {},
   "outputs": [],
   "source": [
    "df_t2.head()"
   ]
  },
  {
   "cell_type": "code",
   "execution_count": null,
   "metadata": {},
   "outputs": [],
   "source": [
    "arr_t2"
   ]
  },
  {
   "cell_type": "markdown",
   "metadata": {},
   "source": [
    "Завдання №3. Записи, у яких сила струму лежить в межах 19-20 А, та, у яких пральна машина та холодильних\n",
    "споживають більше, ніж бойлер та кондиціонер."
   ]
  },
  {
   "cell_type": "code",
   "execution_count": null,
   "metadata": {},
   "outputs": [],
   "source": [
    "# === Завдання 3 ===\n",
    "def task3(df, arr):\n",
    "    # === pandas ===\n",
    "    start = time.time()\n",
    "    df_t3 = df[(df[\"Global_intensity\"] >= 19) & (df[\"Global_intensity\"] <= 20)]\n",
    "    df_t3 = df_t3[df_t3[\"Sub_metering_2\"] > df_t3[\"Sub_metering_3\"]]\n",
    "    print(f\"=== pandas === {time.time() - start:.3f} с\")\n",
    "\n",
    "    # === numpy ===\n",
    "    start = time.time()\n",
    "    cond1 = (arr[\"Global_intensity\"] >= 19) & (arr[\"Global_intensity\"] <= 20)\n",
    "    cond2 = arr[\"Sub_metering_2\"] > arr[\"Sub_metering_3\"]\n",
    "    arr_t3 = arr[cond1 & cond2]\n",
    "    print(f\"=== numpy === {time.time() - start:.3f} с\")\n",
    "\n",
    "    return df_t3, arr_t3\n",
    "df_t3, arr_t3 = task3(df, arr)"
   ]
  },
  {
   "cell_type": "code",
   "execution_count": null,
   "metadata": {},
   "outputs": [],
   "source": [
    "df_t3.head()"
   ]
  },
  {
   "cell_type": "code",
   "execution_count": null,
   "metadata": {},
   "outputs": [],
   "source": [
    "arr_t3"
   ]
  },
  {
   "cell_type": "markdown",
   "metadata": {},
   "source": [
    "Завдання №4. Середні величини всіх 3-х груп споживання електричної енергії з випадково вибраних 500 000 записів  \n",
    "\n"
   ]
  },
  {
   "cell_type": "code",
   "execution_count": null,
   "metadata": {},
   "outputs": [],
   "source": [
    "def task4(df, arr):\n",
    "    # === pandas ===\n",
    "    start = time.time()\n",
    "    sample = df.sample(n=500_000, replace=False)\n",
    "    df_t4 = sample[[\"Sub_metering_1\", \"Sub_metering_2\", \"Sub_metering_3\"]].mean()\n",
    "    print(f\"=== pandas === {time.time() - start:.3f} с\")\n",
    "\n",
    "    # === numpy ===\n",
    "    start = time.time()\n",
    "    random = np.random.choice(len(arr), size=500_000, replace=False)\n",
    "    arr_t4 = {\n",
    "        col: np.mean(arr[col][random])\n",
    "        for col in [\"Sub_metering_1\", \"Sub_metering_2\", \"Sub_metering_3\"]\n",
    "    }\n",
    "    print(f\"=== numpy === {time.time() - start:.3f} с\")\n",
    "    return df_t4, arr_t4\n",
    "df_t4, arr_t4 = task4(df, arr)"
   ]
  },
  {
   "cell_type": "code",
   "execution_count": null,
   "metadata": {},
   "outputs": [],
   "source": [
    "df_t4"
   ]
  },
  {
   "cell_type": "code",
   "execution_count": null,
   "metadata": {},
   "outputs": [],
   "source": [
    "arr_t4"
   ]
  },
  {
   "cell_type": "markdown",
   "metadata": {},
   "source": [
    "Завдання №5. Записи, які:\n",
    "- після 18-00 споживають більше 6 кВт за хвилину в середньому\n",
    "- у яких основне споживання електроенергії у вказаний проміжок часу припадає на пральну машину, сушарку, холодильник та освітлення\n",
    "- обраний кожен третій результат із першої половини та кожен четвертий результат із другої половини."
   ]
  },
  {
   "cell_type": "code",
   "execution_count": null,
   "metadata": {},
   "outputs": [],
   "source": [
    "# === Завдання 5 ===\n",
    "def task5(df, arr):\n",
    "    # === pandas ===\n",
    "    start = time.time()\n",
    "    evening = df[df[\"Time\"] >= \"18:00:00\"]\n",
    "    macarena = evening[evening[\"Global_active_power\"] > 6]\n",
    "    combo = macarena[\n",
    "        (macarena[\"Sub_metering_2\"] > macarena[\"Sub_metering_1\"]) &\n",
    "        (macarena[\"Sub_metering_2\"] > macarena[\"Sub_metering_3\"])\n",
    "    ]\n",
    "    mid = len(combo) // 2\n",
    "    df_t5 = pd.concat([combo[:mid][::3], combo[mid:][::4]])\n",
    "    print(f\"=== pandas === {time.time() - start:.3f} с\")\n",
    "\n",
    "    # === numpy ===\n",
    "    start = time.time()\n",
    "    cond_time = arr[\"Time\"] >= \"18:00:00\"\n",
    "    cond_power = arr[\"Global_active_power\"] > 6\n",
    "    combo = arr[cond_time & cond_power]\n",
    "    cond_main = (\n",
    "        (combo[\"Sub_metering_2\"] > combo[\"Sub_metering_1\"]) &\n",
    "        (combo[\"Sub_metering_2\"] > combo[\"Sub_metering_3\"])\n",
    "    )\n",
    "    group = combo[cond_main]\n",
    "    mid = len(group) // 2\n",
    "    np_3rd = group[:mid][::3]\n",
    "    np_4rd = group[mid:][::4]\n",
    "    arr_t5 = np.concatenate([np_3rd, np_4rd])\n",
    "    print(f\"=== numpy === {time.time() - start:.3f} с\")\n",
    "    return df_t5, arr_t5\n",
    "df_t5, arr_t5 = task5(df, arr)"
   ]
  },
  {
   "cell_type": "code",
   "execution_count": null,
   "metadata": {},
   "outputs": [],
   "source": [
    "df_t5.head()"
   ]
  },
  {
   "cell_type": "code",
   "execution_count": null,
   "metadata": {},
   "outputs": [],
   "source": [
    "arr_t5[:5]"
   ]
  },
  {
   "cell_type": "markdown",
   "metadata": {},
   "source": [
    "### Результати експерименту\n",
    "\n",
    "| №  | Опис завдання| pandas Час (с) | numpy Час (с) | Оцінка pandas | Оцінка numpy | Коментар|\n",
    "|-|-|-|-|-|-|-|\n",
    "|1| Завантаження та очищення даних | 2.046 | 10.402 | 5 | 2 | pandas значно швидше і простіше для очищення |\n",
    "|2| Відбір Global_active_power > 5 кВт | 0.006 | 0.019 | 5 | 4 | pandas зручніше, numpy трохи повільніше |\n",
    "|3| Відбір Voltage > 235 В | 0.115 | 0.220 | 4 | 4 | обидві структури показали подібну ефективність |\n",
    "|4| Струм 19–20 А, sub_metering_2 > sub_metering_3 | 0.010 | 0.049 | 5 | 4 | pandas простіше для комбінованих умов |\n",
    "|5| Середні значення 3-х sub_metering для 500 000 випадкових записів | 0.194 | 0.088 | 4 | 5 | numpy швидший при числовій агрегації |\n",
    "|6| Фільтрація за часом, потужністю, приладами, з вибіркою кожного 3-го/4-го запису | 0.126 | 0.070 | 4 | 5 | numpy значно швидший у складних умовах |\n"
   ]
  }
 ],
 "metadata": {
  "kernelspec": {
   "display_name": ".venv",
   "language": "python",
   "name": "python3"
  },
  "language_info": {
   "codemirror_mode": {
    "name": "ipython",
    "version": 3
   },
   "file_extension": ".py",
   "mimetype": "text/x-python",
   "name": "python",
   "nbconvert_exporter": "python",
   "pygments_lexer": "ipython3",
   "version": "3.13.1"
  }
 },
 "nbformat": 4,
 "nbformat_minor": 2
}
