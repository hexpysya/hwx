{
 "cells": [
  {
   "cell_type": "code",
   "execution_count": 35,
   "metadata": {},
   "outputs": [],
   "source": [
    "import pandas as pd\n",
    "import numpy as np\n",
    "import timeit\n",
    "import seaborn as sns\n",
    "import matplotlib.pyplot as plt"
   ]
  },
  {
   "cell_type": "markdown",
   "metadata": {},
   "source": [
    "Завантанження та клінінг даних"
   ]
  },
  {
   "cell_type": "code",
   "execution_count": 36,
   "metadata": {},
   "outputs": [
    {
     "name": "stdout",
     "output_type": "stream",
     "text": [
      "=== pandas === Дані завантажено та очищено за 2.196 с\n",
      "=== numpy === Дані завантажено та очищено за 10.346 с\n"
     ]
    }
   ],
   "source": [
    "# === pandas ===\n",
    "start_time = timeit.default_timer()\n",
    "df_pandas = pd.read_csv(\"data.txt\", sep=\";\", na_values=\"?\", low_memory=False)\n",
    "df_pandas.dropna(inplace=True)\n",
    "df_pandas[\"Global_active_power\"] = df_pandas[\"Global_active_power\"].astype(float)\n",
    "pandas_time = timeit.default_timer() - start_time\n",
    "print(f\"=== pandas === Дані завантажено та очищено за {pandas_time:.3f} с\")\n",
    "\n",
    "# === numpy ===\n",
    "start_time = timeit.default_timer()\n",
    "types = [\n",
    "    (\"Date\", \"U10\"), (\"Time\", \"U8\"),\n",
    "    (\"Global_active_power\", \"f8\"), (\"Global_reactive_power\", \"f8\"),\n",
    "    (\"Voltage\", \"f8\"), (\"Global_intensity\", \"f8\"),\n",
    "    (\"Sub_metering_1\", \"f8\"), (\"Sub_metering_2\", \"f8\"),\n",
    "    (\"Sub_metering_3\", \"f8\")\n",
    "]\n",
    "\n",
    "data_numpy = np.genfromtxt(\n",
    "    \"data.txt\", delimiter=\";\", dtype=types, names=True,\n",
    "    missing_values=\"?\", filling_values=np.nan, encoding=\"utf-8\"\n",
    ")\n",
    "\n",
    "data_numpy = data_numpy[~np.isnan(data_numpy[\"Global_active_power\"])]\n",
    "numpy_time = timeit.default_timer() - start_time\n",
    "print(f\"=== numpy === Дані завантажено та очищено за {numpy_time:.3f} с\")\n"
   ]
  },
  {
   "cell_type": "markdown",
   "metadata": {},
   "source": [
    "Завдання №1. \n",
    "Записи, у яких Global_active_power > 5 кВт."
   ]
  },
  {
   "cell_type": "code",
   "execution_count": 37,
   "metadata": {},
   "outputs": [
    {
     "name": "stdout",
     "output_type": "stream",
     "text": [
      "=== pandas === Записів із потужністю > 5 кВт: 17547 | Час: 0.006 с\n",
      "=== numpy === Записів із потужністю > 5 кВт: 17547 | Час: 0.019 с\n"
     ]
    }
   ],
   "source": [
    "# === pandas ===\n",
    "start_time = timeit.default_timer()\n",
    "power_pandas = df_pandas[df_pandas[\"Global_active_power\"] > 5]\n",
    "power_pandas_time = timeit.default_timer() - start_time\n",
    "print(f\"=== pandas === Записів із потужністю > 5 кВт: {len(power_pandas)} | Час: {power_pandas_time:.3f} с\")\n",
    "\n",
    "# === numpy ===\n",
    "start_time = timeit.default_timer()\n",
    "power_numpy = data_numpy[data_numpy[\"Global_active_power\"] > 5]\n",
    "power_numpy_time = timeit.default_timer() - start_time\n",
    "print(f\"=== numpy === Записів із потужністю > 5 кВт: {len(power_numpy)} | Час: {power_numpy_time:.3f} с\")"
   ]
  },
  {
   "cell_type": "markdown",
   "metadata": {},
   "source": [
    "Завдання №2. Записи, де Voltage > 235 В."
   ]
  },
  {
   "cell_type": "code",
   "execution_count": 38,
   "metadata": {},
   "outputs": [
    {
     "name": "stdout",
     "output_type": "stream",
     "text": [
      "=== pandas === Записів із напругою > 235 В: 1952491 | Час: 0.115 с\n",
      "=== numpy === Записів із напругою > 235 В: 1952491 | Час: 0.189 с\n"
     ]
    }
   ],
   "source": [
    "# === pandas ===\n",
    "start_time = timeit.default_timer()\n",
    "voltage_pandas = df_pandas[df_pandas[\"Voltage\"] > 235]\n",
    "voltage_pandas_time = timeit.default_timer() - start_time\n",
    "print(f\"=== pandas === Записів із напругою > 235 В: {len(voltage_pandas)} | Час: {voltage_pandas_time:.3f} с\")\n",
    "\n",
    "# === numpy ===\n",
    "start_time = timeit.default_timer()\n",
    "voltage_numpy = data_numpy[data_numpy[\"Voltage\"] > 235]\n",
    "voltage_numpy_time = timeit.default_timer() - start_time\n",
    "print(f\"=== numpy === Записів із напругою > 235 В: {len(voltage_numpy)} | Час: {voltage_numpy_time:.3f} с\")"
   ]
  },
  {
   "cell_type": "markdown",
   "metadata": {},
   "source": [
    "Завдання №3. Записи, у яких сила струму лежить в межах 19-20 А, та, у яких пральна машина та холодильних\n",
    "споживають більше, ніж бойлер та кондиціонер."
   ]
  },
  {
   "cell_type": "code",
   "execution_count": 39,
   "metadata": {},
   "outputs": [
    {
     "name": "stdout",
     "output_type": "stream",
     "text": [
      "=== pandas === Струм 19-20 А і sub_metering_2 > sub_metering_3: 2509 | Час: 0.010 с\n",
      "=== numpy === Струм 19-20 А і sub_metering_2 > sub_metering_3: 2509 | Час: 0.049 с\n"
     ]
    }
   ],
   "source": [
    "# === pandas ===\n",
    "start_time = timeit.default_timer()\n",
    "taks3_pandas = df_pandas[(df_pandas[\"Global_intensity\"] >= 19) & (df_pandas[\"Global_intensity\"] <= 20)]\n",
    "taks3_pandas = taks3_pandas[taks3_pandas[\"Sub_metering_2\"] > taks3_pandas[\"Sub_metering_3\"]]\n",
    "taks3_pandas_time = timeit.default_timer() - start_time\n",
    "print(f\"=== pandas === Струм 19-20 А і sub_metering_2 > sub_metering_3: {len(taks3_pandas)} | Час: {taks3_pandas_time:.3f} с\")\n",
    "\n",
    "# === numpy ===\n",
    "start_time = timeit.default_timer()\n",
    "amp_mask = (data_numpy[\"Global_intensity\"] >= 19) & (data_numpy[\"Global_intensity\"] <= 20)\n",
    "comparison_mask = data_numpy[\"Sub_metering_2\"] > data_numpy[\"Sub_metering_3\"]\n",
    "task3_numpy = data_numpy[amp_mask & comparison_mask]\n",
    "task3_numpy_time = timeit.default_timer() - start_time\n",
    "print(f\"=== numpy === Струм 19-20 А і sub_metering_2 > sub_metering_3: {len(task3_numpy)} | Час: {task3_numpy_time:.3f} с\")"
   ]
  },
  {
   "cell_type": "markdown",
   "metadata": {},
   "source": [
    "Завдання №4. Середні величини всіх 3-х груп споживання електричної енергії з випадково вибраних 500 000 записів  \n",
    "\n"
   ]
  },
  {
   "cell_type": "code",
   "execution_count": null,
   "metadata": {},
   "outputs": [
    {
     "name": "stdout",
     "output_type": "stream",
     "text": [
      "=== pandas === Середні значення для 500000 випадкових записів:\n",
      "Sub_metering_1    1.119258\n",
      "Sub_metering_2    1.308912\n",
      "Sub_metering_3    6.452950\n",
      "dtype: float64\n",
      "Час: 0.275 с\n",
      "\n",
      "=== numpy === Середні значення для 500000 випадкових записів:\n",
      "{'Sub_metering_1': np.float64(1.1186), 'Sub_metering_2': np.float64(1.30302), 'Sub_metering_3': np.float64(6.451284)}\n",
      "Час: 0.180 с\n"
     ]
    }
   ],
   "source": [
    "# === pandas ===\n",
    "start_time = timeit.default_timer()\n",
    "sample = df_pandas.sample(n=500000, replace=False, random_state=42)\n",
    "task4_pandas = sample[[\"Sub_metering_1\", \"Sub_metering_2\", \"Sub_metering_3\"]].mean()\n",
    "task4_pandas_time = timeit.default_timer() - start_time\n",
    "print(f\"=== pandas === Середні значення для 500000 випадкових записів:\")\n",
    "print(task4_pandas)\n",
    "print(f\"Час: {task4_pandas_time:.3f} с\\n\")\n",
    "\n",
    "# === numpy ===\n",
    "start_time = timeit.default_timer()\n",
    "random_indices = np.random.choice(len(data_numpy), size=500000, replace=False)\n",
    "sample = data_numpy[random_indices]\n",
    "task4_numpy = {\n",
    "    \"Sub_metering_1\": np.mean(sample[\"Sub_metering_1\"]),\n",
    "    \"Sub_metering_2\": np.mean(sample[\"Sub_metering_2\"]),\n",
    "    \"Sub_metering_3\": np.mean(sample[\"Sub_metering_3\"])\n",
    "}\n",
    "task4_numpy_time = timeit.default_timer() - start_time\n",
    "print(f\"=== numpy === Середні значення для 500000 випадкових записів:\")\n",
    "print(task4_numpy)\n",
    "print(f\"Час: {task4_numpy_time:.3f} с\")\n"
   ]
  },
  {
   "cell_type": "markdown",
   "metadata": {},
   "source": [
    "Завдання №5. Записи, які:\n",
    "- після 18-00 споживають більше 6 кВт за хвилину в середньому\n",
    "- у яких основне споживання електроенергії у вказаний проміжок часу припадає на пральну машину, сушарку, холодильник та освітлення\n",
    "- обраний кожен третій результат із першої половини та кожен четвертий результат із другої половини."
   ]
  },
  {
   "cell_type": "code",
   "execution_count": 41,
   "metadata": {},
   "outputs": [
    {
     "name": "stdout",
     "output_type": "stream",
     "text": [
      "=== pandas === Результатів: 310 | Час: 6.056 с\n",
      "=== numpy === Результатів: 310 | Час: 1.450 с\n"
     ]
    }
   ],
   "source": [
    "# === pandas ===\n",
    "start_time = timeit.default_timer()\n",
    "df_pandas[\"Time\"] = pd.to_datetime(df_pandas[\"Time\"], format=\"%H:%M:%S\").dt.time\n",
    "evening = df_pandas[df_pandas[\"Time\"] >= pd.to_datetime(\"18:00:00\").time()]\n",
    "high_power = evening[evening[\"Global_active_power\"] > 6]\n",
    "groupp = high_power[\n",
    "    (high_power[\"Sub_metering_2\"] > high_power[\"Sub_metering_1\"]) &\n",
    "    (high_power[\"Sub_metering_2\"] > high_power[\"Sub_metering_3\"])\n",
    "]\n",
    "mid = len(groupp) // 2\n",
    "first_half = groupp.iloc[:mid]\n",
    "second_half = groupp.iloc[mid:]\n",
    "pandas_3rd = first_half.iloc[::3]\n",
    "pandas_4rd = second_half.iloc[::4]\n",
    "task5_pandas = pd.concat([pandas_3rd, pandas_4rd])\n",
    "pandas_task5_time = timeit.default_timer() - start_time\n",
    "print(f\"=== pandas === Результатів: {len(task5_pandas)} | Час: {pandas_task5_time:.3f} с\")\n",
    "\n",
    "# === numpy ===\n",
    "start_time = timeit.default_timer()\n",
    "\n",
    "def to_hour(tstr):\n",
    "    return int(tstr.split(\":\")[0])\n",
    "\n",
    "time_hours = np.array([to_hour(t) for t in data_numpy[\"Time\"]])\n",
    "evening_mask = time_hours >= 18\n",
    "power_mask = data_numpy[\"Global_active_power\"] > 6\n",
    "combo_mask = evening_mask & power_mask\n",
    "\n",
    "filter = data_numpy[combo_mask]\n",
    "groupn = (\n",
    "    (filter[\"Sub_metering_2\"] > filter[\"Sub_metering_1\"]) &\n",
    "    (filter[\"Sub_metering_2\"] > filter[\"Sub_metering_3\"])\n",
    ")\n",
    "filtern = filter[groupn]\n",
    "\n",
    "mid_idx = len(filtern) // 2\n",
    "numpy_3rd = filtern[:mid_idx][::3]\n",
    "numpy_4rd = filtern[mid_idx:][::4]\n",
    "task5_numpy = np.concatenate([numpy_3rd, numpy_4rd])\n",
    "\n",
    "task5_numpy_time = timeit.default_timer() - start_time\n",
    "print(f\"=== numpy === Результатів: {len(task5_numpy)} | Час: {task5_numpy_time:.3f} с\")\n"
   ]
  },
  {
   "cell_type": "markdown",
   "metadata": {},
   "source": [
    "### Результати експерименту\n",
    "\n",
    "| №  | Опис завдання                                                                                                     | pandas Час (с) | numpy Час (с)  | Оцінка pandas | Оцінка numpy | Коментар                                                                 |\n",
    "|----|-------------------------------------------------------------------------------------------------------------------|------------------|------------------|------------------|------------------|--------------------------------------------------------------------------|\n",
    "| 1  | Завантаження та очищення даних                                                                                    | 2.122            | 11.836           | 5                | 2                | pandas значно швидше і простіше для очищення                           |\n",
    "| 2  | Відбір Global_active_power > 5 кВт                                                                              | 0.009            | 0.026            | 5                | 4                | pandas зручніше, numpy трохи повільніше                              |\n",
    "| 3  | Відбір Voltage > 235 В                                                                                          | 0.179            | 0.208            | 4                | 4                | обидві структури показали подібну ефективність                           |\n",
    "| 4  | Струм 19–20 А, sub_metering_2 > sub_metering_3                                                                  | 0.013            | 0.056            | 5                | 3                | pandas простіше для комбінованих умов                                  |\n",
    "| 5  | Середні значення 3-х sub_metering для 500 000 випадкових записів                                                | 0.268            | 0.214            | 4                | 5                | numpy швидший при числовій агрегації                                   |\n",
    "| 6  | Фільтрація за часом, потужністю, приладами, з вибіркою кожного 3-го/4-го запису                                   | 6.442            | 1.482            | 2                | 4                | numpy значно швидший у складних умовах       |\n"
   ]
  }
 ],
 "metadata": {
  "kernelspec": {
   "display_name": ".venv",
   "language": "python",
   "name": "python3"
  },
  "language_info": {
   "codemirror_mode": {
    "name": "ipython",
    "version": 3
   },
   "file_extension": ".py",
   "mimetype": "text/x-python",
   "name": "python",
   "nbconvert_exporter": "python",
   "pygments_lexer": "ipython3",
   "version": "3.13.1"
  }
 },
 "nbformat": 4,
 "nbformat_minor": 2
}
