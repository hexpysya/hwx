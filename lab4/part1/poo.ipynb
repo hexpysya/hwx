{
 "cells": [
  {
   "cell_type": "code",
   "execution_count": 16,
   "metadata": {},
   "outputs": [],
   "source": [
    "import pandas as pd\n",
    "import numpy as np\n",
    "import time\n",
    "import seaborn as sns\n",
    "import matplotlib.pyplot as plt"
   ]
  },
  {
   "cell_type": "markdown",
   "metadata": {},
   "source": [
    "Завантанження та клінінг даних"
   ]
  },
  {
   "cell_type": "code",
   "execution_count": 45,
   "metadata": {},
   "outputs": [
    {
     "name": "stdout",
     "output_type": "stream",
     "text": [
      "=== pandas === 2.053 с\n"
     ]
    },
    {
     "ename": "FileNotFoundError",
     "evalue": "[Errno 2] No such file or directory: 'AirQualityUCI.csv'",
     "output_type": "error",
     "traceback": [
      "\u001b[31m---------------------------------------------------------------------------\u001b[39m",
      "\u001b[31mFileNotFoundError\u001b[39m                         Traceback (most recent call last)",
      "\u001b[36mCell\u001b[39m\u001b[36m \u001b[39m\u001b[32mIn[45]\u001b[39m\u001b[32m, line 9\u001b[39m\n\u001b[32m      6\u001b[39m \u001b[38;5;28mprint\u001b[39m(\u001b[33mf\u001b[39m\u001b[33m\"\u001b[39m\u001b[33m=== pandas === \u001b[39m\u001b[38;5;132;01m{\u001b[39;00mend\u001b[38;5;132;01m:\u001b[39;00m\u001b[33m.3f\u001b[39m\u001b[38;5;132;01m}\u001b[39;00m\u001b[33m с\u001b[39m\u001b[33m\"\u001b[39m)\n\u001b[32m      8\u001b[39m \u001b[38;5;66;03m# === numpy ===\u001b[39;00m\n\u001b[32m----> \u001b[39m\u001b[32m9\u001b[39m \u001b[38;5;28;01mwith\u001b[39;00m \u001b[38;5;28;43mopen\u001b[39;49m\u001b[43m(\u001b[49m\u001b[33;43m\"\u001b[39;49m\u001b[33;43mAirQualityUCI.csv\u001b[39;49m\u001b[33;43m\"\u001b[39;49m\u001b[43m,\u001b[49m\u001b[43m \u001b[49m\u001b[33;43m\"\u001b[39;49m\u001b[33;43mr\u001b[39;49m\u001b[33;43m\"\u001b[39;49m\u001b[43m,\u001b[49m\u001b[43m \u001b[49m\u001b[43mencoding\u001b[49m\u001b[43m=\u001b[49m\u001b[33;43m\"\u001b[39;49m\u001b[33;43mlatin1\u001b[39;49m\u001b[33;43m\"\u001b[39;49m\u001b[43m)\u001b[49m \u001b[38;5;28;01mas\u001b[39;00m f:\n\u001b[32m     10\u001b[39m     content = f.read().replace(\u001b[33m\"\u001b[39m\u001b[33m,\u001b[39m\u001b[33m\"\u001b[39m, \u001b[33m\"\u001b[39m\u001b[33m.\u001b[39m\u001b[33m\"\u001b[39m)\n\u001b[32m     12\u001b[39m \u001b[38;5;28;01mwith\u001b[39;00m \u001b[38;5;28mopen\u001b[39m(\u001b[33m\"\u001b[39m\u001b[33mAirQuality_clean.csv\u001b[39m\u001b[33m\"\u001b[39m, \u001b[33m\"\u001b[39m\u001b[33mw\u001b[39m\u001b[33m\"\u001b[39m, encoding=\u001b[33m\"\u001b[39m\u001b[33mlatin1\u001b[39m\u001b[33m\"\u001b[39m) \u001b[38;5;28;01mas\u001b[39;00m f:\n",
      "\u001b[36mFile \u001b[39m\u001b[32md:\\miracle\\adorable\\git\\hwx\\lab4\\.venv\\Lib\\site-packages\\IPython\\core\\interactiveshell.py:325\u001b[39m, in \u001b[36m_modified_open\u001b[39m\u001b[34m(file, *args, **kwargs)\u001b[39m\n\u001b[32m    318\u001b[39m \u001b[38;5;28;01mif\u001b[39;00m file \u001b[38;5;129;01min\u001b[39;00m {\u001b[32m0\u001b[39m, \u001b[32m1\u001b[39m, \u001b[32m2\u001b[39m}:\n\u001b[32m    319\u001b[39m     \u001b[38;5;28;01mraise\u001b[39;00m \u001b[38;5;167;01mValueError\u001b[39;00m(\n\u001b[32m    320\u001b[39m         \u001b[33mf\u001b[39m\u001b[33m\"\u001b[39m\u001b[33mIPython won\u001b[39m\u001b[33m'\u001b[39m\u001b[33mt let you open fd=\u001b[39m\u001b[38;5;132;01m{\u001b[39;00mfile\u001b[38;5;132;01m}\u001b[39;00m\u001b[33m by default \u001b[39m\u001b[33m\"\u001b[39m\n\u001b[32m    321\u001b[39m         \u001b[33m\"\u001b[39m\u001b[33mas it is likely to crash IPython. If you know what you are doing, \u001b[39m\u001b[33m\"\u001b[39m\n\u001b[32m    322\u001b[39m         \u001b[33m\"\u001b[39m\u001b[33myou can use builtins\u001b[39m\u001b[33m'\u001b[39m\u001b[33m open.\u001b[39m\u001b[33m\"\u001b[39m\n\u001b[32m    323\u001b[39m     )\n\u001b[32m--> \u001b[39m\u001b[32m325\u001b[39m \u001b[38;5;28;01mreturn\u001b[39;00m \u001b[43mio_open\u001b[49m\u001b[43m(\u001b[49m\u001b[43mfile\u001b[49m\u001b[43m,\u001b[49m\u001b[43m \u001b[49m\u001b[43m*\u001b[49m\u001b[43margs\u001b[49m\u001b[43m,\u001b[49m\u001b[43m \u001b[49m\u001b[43m*\u001b[49m\u001b[43m*\u001b[49m\u001b[43mkwargs\u001b[49m\u001b[43m)\u001b[49m\n",
      "\u001b[31mFileNotFoundError\u001b[39m: [Errno 2] No such file or directory: 'AirQualityUCI.csv'"
     ]
    }
   ],
   "source": [
    "# === pandas ===\n",
    "start = time.time()\n",
    "df = pd.read_csv(\"data.txt\", sep=\";\", na_values=\"?\", low_memory=False)\n",
    "df.dropna(inplace=True)\n",
    "end = time.time() - start\n",
    "print(f\"=== pandas === {end:.3f} с\")\n",
    "\n",
    "# === numpy ===\n",
    "\n",
    "start = time.time()\n",
    "types = [\n",
    "    (\"Date\", \"U10\"),\n",
    "    (\"Time\", \"U8\"),\n",
    "    (\"Global_active_power\", \"f8\"),\n",
    "    (\"Global_reactive_power\", \"f8\"),\n",
    "    (\"Voltage\", \"f8\"),\n",
    "    (\"Global_intensity\", \"f8\"),\n",
    "    (\"Sub_metering_1\", \"f8\"),\n",
    "    (\"Sub_metering_2\", \"f8\"),\n",
    "    (\"Sub_metering_3\", \"f8\")\n",
    "]\n",
    "\n",
    "arr = np.genfromtxt(\n",
    "    \"data.txt\", delimiter=\";\", dtype=types, names=True,\n",
    "    missing_values=\"?\", filling_values=np.nan, encoding=\"utf-8\"\n",
    ")\n",
    "\n",
    "np_time = time.time() - start\n",
    "print(f\"=== numpy === {np_time:.3f} с\")\n"
   ]
  },
  {
   "cell_type": "code",
   "execution_count": 44,
   "metadata": {},
   "outputs": [
    {
     "data": {
      "text/html": [
       "<div>\n",
       "<style scoped>\n",
       "    .dataframe tbody tr th:only-of-type {\n",
       "        vertical-align: middle;\n",
       "    }\n",
       "\n",
       "    .dataframe tbody tr th {\n",
       "        vertical-align: top;\n",
       "    }\n",
       "\n",
       "    .dataframe thead th {\n",
       "        text-align: right;\n",
       "    }\n",
       "</style>\n",
       "<table border=\"1\" class=\"dataframe\">\n",
       "  <thead>\n",
       "    <tr style=\"text-align: right;\">\n",
       "      <th></th>\n",
       "      <th>Date</th>\n",
       "      <th>Time</th>\n",
       "      <th>Global_active_power</th>\n",
       "      <th>Global_reactive_power</th>\n",
       "      <th>Voltage</th>\n",
       "      <th>Global_intensity</th>\n",
       "      <th>Sub_metering_1</th>\n",
       "      <th>Sub_metering_2</th>\n",
       "      <th>Sub_metering_3</th>\n",
       "    </tr>\n",
       "  </thead>\n",
       "  <tbody>\n",
       "    <tr>\n",
       "      <th>0</th>\n",
       "      <td>16/12/2006</td>\n",
       "      <td>17:24:00</td>\n",
       "      <td>4.216</td>\n",
       "      <td>0.418</td>\n",
       "      <td>234.84</td>\n",
       "      <td>18.4</td>\n",
       "      <td>0.0</td>\n",
       "      <td>1.0</td>\n",
       "      <td>17.0</td>\n",
       "    </tr>\n",
       "    <tr>\n",
       "      <th>1</th>\n",
       "      <td>16/12/2006</td>\n",
       "      <td>17:25:00</td>\n",
       "      <td>5.360</td>\n",
       "      <td>0.436</td>\n",
       "      <td>233.63</td>\n",
       "      <td>23.0</td>\n",
       "      <td>0.0</td>\n",
       "      <td>1.0</td>\n",
       "      <td>16.0</td>\n",
       "    </tr>\n",
       "    <tr>\n",
       "      <th>2</th>\n",
       "      <td>16/12/2006</td>\n",
       "      <td>17:26:00</td>\n",
       "      <td>5.374</td>\n",
       "      <td>0.498</td>\n",
       "      <td>233.29</td>\n",
       "      <td>23.0</td>\n",
       "      <td>0.0</td>\n",
       "      <td>2.0</td>\n",
       "      <td>17.0</td>\n",
       "    </tr>\n",
       "    <tr>\n",
       "      <th>3</th>\n",
       "      <td>16/12/2006</td>\n",
       "      <td>17:27:00</td>\n",
       "      <td>5.388</td>\n",
       "      <td>0.502</td>\n",
       "      <td>233.74</td>\n",
       "      <td>23.0</td>\n",
       "      <td>0.0</td>\n",
       "      <td>1.0</td>\n",
       "      <td>17.0</td>\n",
       "    </tr>\n",
       "    <tr>\n",
       "      <th>4</th>\n",
       "      <td>16/12/2006</td>\n",
       "      <td>17:28:00</td>\n",
       "      <td>3.666</td>\n",
       "      <td>0.528</td>\n",
       "      <td>235.68</td>\n",
       "      <td>15.8</td>\n",
       "      <td>0.0</td>\n",
       "      <td>1.0</td>\n",
       "      <td>17.0</td>\n",
       "    </tr>\n",
       "  </tbody>\n",
       "</table>\n",
       "</div>"
      ],
      "text/plain": [
       "         Date      Time  Global_active_power  Global_reactive_power  Voltage  \\\n",
       "0  16/12/2006  17:24:00                4.216                  0.418   234.84   \n",
       "1  16/12/2006  17:25:00                5.360                  0.436   233.63   \n",
       "2  16/12/2006  17:26:00                5.374                  0.498   233.29   \n",
       "3  16/12/2006  17:27:00                5.388                  0.502   233.74   \n",
       "4  16/12/2006  17:28:00                3.666                  0.528   235.68   \n",
       "\n",
       "   Global_intensity  Sub_metering_1  Sub_metering_2  Sub_metering_3  \n",
       "0              18.4             0.0             1.0            17.0  \n",
       "1              23.0             0.0             1.0            16.0  \n",
       "2              23.0             0.0             2.0            17.0  \n",
       "3              23.0             0.0             1.0            17.0  \n",
       "4              15.8             0.0             1.0            17.0  "
      ]
     },
     "execution_count": 44,
     "metadata": {},
     "output_type": "execute_result"
    }
   ],
   "source": [
    "df.head()"
   ]
  },
  {
   "cell_type": "code",
   "execution_count": 43,
   "metadata": {},
   "outputs": [
    {
     "data": {
      "text/plain": [
       "array([('16/12/2006', '17:24:00', 4.216, 0.418, 234.84, 18.4, 0., 1., 17.),\n",
       "       ('16/12/2006', '17:25:00', 5.36 , 0.436, 233.63, 23. , 0., 1., 16.),\n",
       "       ('16/12/2006', '17:26:00', 5.374, 0.498, 233.29, 23. , 0., 2., 17.),\n",
       "       ...,\n",
       "       ('26/11/2010', '21:00:00', 0.938, 0.   , 239.82,  3.8, 0., 0.,  0.),\n",
       "       ('26/11/2010', '21:01:00', 0.934, 0.   , 239.7 ,  3.8, 0., 0.,  0.),\n",
       "       ('26/11/2010', '21:02:00', 0.932, 0.   , 239.55,  3.8, 0., 0.,  0.)],\n",
       "      shape=(2075259,), dtype=[('Date', '<U10'), ('Time', '<U8'), ('Global_active_power', '<f8'), ('Global_reactive_power', '<f8'), ('Voltage', '<f8'), ('Global_intensity', '<f8'), ('Sub_metering_1', '<f8'), ('Sub_metering_2', '<f8'), ('Sub_metering_3', '<f8')])"
      ]
     },
     "execution_count": 43,
     "metadata": {},
     "output_type": "execute_result"
    }
   ],
   "source": [
    "arr"
   ]
  },
  {
   "cell_type": "markdown",
   "metadata": {},
   "source": [
    "Завдання №1. \n",
    "Записи, у яких Global_active_power > 5 кВт."
   ]
  },
  {
   "cell_type": "code",
   "execution_count": null,
   "metadata": {},
   "outputs": [],
   "source": [
    "# === pandas ===\n",
    "start = time.time()\n",
    "df_t1 = df[df[\"Global_active_power\"] > 5]\n",
    "end = time.time() - start\n",
    "print(f\"=== pandas === {end:.3f} с\")\n",
    "\n",
    "\n",
    "# === numpy ===\n",
    "start = time.time()\n",
    "arr_t1 = arr[arr[\"Global_active_power\"] > 5]\n",
    "end = time.time() - start\n",
    "print(f\"=== numpy === {end:.3f} с\")"
   ]
  },
  {
   "cell_type": "code",
   "execution_count": null,
   "metadata": {},
   "outputs": [],
   "source": [
    "df_t1.head()"
   ]
  },
  {
   "cell_type": "code",
   "execution_count": null,
   "metadata": {},
   "outputs": [],
   "source": [
    "arr_t1"
   ]
  },
  {
   "cell_type": "markdown",
   "metadata": {},
   "source": [
    "Завдання №2. Записи, де Voltage > 235 В."
   ]
  },
  {
   "cell_type": "code",
   "execution_count": null,
   "metadata": {},
   "outputs": [],
   "source": [
    "# === pandas ===\n",
    "start = time.time()\n",
    "df_t2 = df[df[\"Voltage\"] > 235]\n",
    "end = time.time() - start\n",
    "print(f\"=== pandas === {end:.3f} с\")\n",
    "\n",
    "# === numpy ===\n",
    "start = time.time()\n",
    "arr_t2 = arr[arr[\"Voltage\"] > 235]\n",
    "end = time.time() - start\n",
    "print(f\"=== numpy === {end:.3f} с\")"
   ]
  },
  {
   "cell_type": "code",
   "execution_count": null,
   "metadata": {},
   "outputs": [],
   "source": [
    "df_t2.head()"
   ]
  },
  {
   "cell_type": "code",
   "execution_count": null,
   "metadata": {},
   "outputs": [],
   "source": [
    "arr_t2"
   ]
  },
  {
   "cell_type": "markdown",
   "metadata": {},
   "source": [
    "Завдання №3. Записи, у яких сила струму лежить в межах 19-20 А, та, у яких пральна машина та холодильних\n",
    "споживають більше, ніж бойлер та кондиціонер."
   ]
  },
  {
   "cell_type": "code",
   "execution_count": 30,
   "metadata": {},
   "outputs": [
    {
     "name": "stdout",
     "output_type": "stream",
     "text": [
      "=== pandas === 0.012 с\n",
      "=== numpy === 0.069 с\n"
     ]
    }
   ],
   "source": [
    "# === pandas ===\n",
    "start = time.time()\n",
    "df_t3 = df[(df[\"Global_intensity\"] >= 19) & (df[\"Global_intensity\"] <= 20)]\n",
    "df_t3 = df_t3[df_t3[\"Sub_metering_2\"] > df_t3[\"Sub_metering_3\"]]\n",
    "end = time.time() - start\n",
    "print(f\"=== pandas === {end:.3f} с\")\n",
    "\n",
    "# === numpy ===\n",
    "start = time.time()\n",
    "arr_t3 = (arr[\"Global_intensity\"] >= 19) & (arr[\"Global_intensity\"] <= 20)\n",
    "arr_t32 = arr[\"Sub_metering_2\"] > arr[\"Sub_metering_3\"]\n",
    "arr_t3 = arr[arr_t3 & arr_t32]\n",
    "end = time.time() - start\n",
    "print(f\"=== numpy === {end:.3f} с\")"
   ]
  },
  {
   "cell_type": "code",
   "execution_count": null,
   "metadata": {},
   "outputs": [],
   "source": [
    "df_t3.head()"
   ]
  },
  {
   "cell_type": "code",
   "execution_count": null,
   "metadata": {},
   "outputs": [],
   "source": [
    "arr_t3"
   ]
  },
  {
   "cell_type": "markdown",
   "metadata": {},
   "source": [
    "Завдання №4. Середні величини всіх 3-х груп споживання електричної енергії з випадково вибраних 500 000 записів  \n",
    "\n"
   ]
  },
  {
   "cell_type": "code",
   "execution_count": null,
   "metadata": {},
   "outputs": [
    {
     "name": "stdout",
     "output_type": "stream",
     "text": [
      "=== pandas === Середні значення для 500000 випадкових записів:\n",
      "Sub_metering_1    1.131242\n",
      "Sub_metering_2    1.298606\n",
      "Sub_metering_3    6.443620\n",
      "dtype: float64\n",
      "0.216 с\n",
      "\n",
      "{'Sub_metering_1': np.float64(nan), 'Sub_metering_2': np.float64(nan), 'Sub_metering_3': np.float64(nan)}\n",
      "0.181 с\n"
     ]
    }
   ],
   "source": [
    "# === pandas ===\n",
    "start = time.time()\n",
    "sample = df.sample(n=500_000, replace=False)\n",
    "df_t4 = sample[[\"Sub_metering_1\", \"Sub_metering_2\", \"Sub_metering_3\"]].mean()\n",
    "end = time.time() - start\n",
    "print(df_t4)\n",
    "print(f\"{end:.3f} с\\n\")\n",
    "\n",
    "# === numpy ===\n",
    "start = time.time()\n",
    "random_indices = np.random.choice(len(arr), size=500_000, replace=False)\n",
    "sample = arr[random_indices]\n",
    "arr_t4 = {\n",
    "    \"Sub_metering_1\": np.mean(sample[\"Sub_metering_1\"]),\n",
    "    \"Sub_metering_2\": np.mean(sample[\"Sub_metering_2\"]),\n",
    "    \"Sub_metering_3\": np.mean(sample[\"Sub_metering_3\"])\n",
    "}\n",
    "end = time.time() - start\n",
    "print(arr_t4)\n",
    "print(f\"{end:.3f} с\")\n"
   ]
  },
  {
   "cell_type": "markdown",
   "metadata": {},
   "source": [
    "Завдання №5. Записи, які:\n",
    "- після 18-00 споживають більше 6 кВт за хвилину в середньому\n",
    "- у яких основне споживання електроенергії у вказаний проміжок часу припадає на пральну машину, сушарку, холодильник та освітлення\n",
    "- обраний кожен третій результат із першої половини та кожен четвертий результат із другої половини."
   ]
  },
  {
   "cell_type": "code",
   "execution_count": 39,
   "metadata": {},
   "outputs": [
    {
     "name": "stdout",
     "output_type": "stream",
     "text": [
      "=== pandas === 0.131 с\n",
      "=== numpy === 1.428 с\n"
     ]
    }
   ],
   "source": [
    "# === pandas ===\n",
    "start = time.time()\n",
    "\n",
    "evening = df[df[\"Time\"] >= pd.to_datetime(\"18:00:00\").time()]\n",
    "pivo = evening[evening[\"Global_active_power\"] > 6]\n",
    "combo = pivo[\n",
    "    (pivo[\"Sub_metering_2\"] > pivo[\"Sub_metering_1\"]) &\n",
    "    (pivo[\"Sub_metering_2\"] > pivo[\"Sub_metering_3\"])\n",
    "]\n",
    "\n",
    "mid = len(combo) // 2\n",
    "half1 = combo.iloc[:mid]\n",
    "half2 = combo.iloc[mid:]\n",
    "df_3rd = half1.iloc[::3]\n",
    "df_4rd = half2.iloc[::4]\n",
    "df_t5 = pd.concat([df_3rd, df_4rd])\n",
    "end = time.time() - start\n",
    "print(f\"=== pandas === {end:.3f} с\")\n",
    "\n",
    "# === numpy ===\n",
    "start = time.time()\n",
    "\n",
    "def hour(tstr):\n",
    "    return int(tstr.split(\":\")[0])\n",
    "\n",
    "hours = np.array([hour(t) for t in arr[\"Time\"]])\n",
    "evening = hours >= 18\n",
    "pivo = arr[\"Global_active_power\"] > 6\n",
    "combo = evening & pivo\n",
    "\n",
    "filt = arr[combo]\n",
    "groupn = (\n",
    "    (filt[\"Sub_metering_2\"] > filt[\"Sub_metering_1\"]) &\n",
    "    (filt[\"Sub_metering_2\"] > filt[\"Sub_metering_3\"])\n",
    ")\n",
    "filtn = filt[groupn]\n",
    "\n",
    "mid = len(filtn) // 2\n",
    "np_3rd = filtn[:mid][::3]\n",
    "np_4rd = filtn[mid:][::4]\n",
    "arr_t5 = np.concatenate([np_3rd, np_4rd])\n",
    "\n",
    "end = time.time() - start\n",
    "print(f\"=== numpy === {end:.3f} с\")\n"
   ]
  },
  {
   "cell_type": "markdown",
   "metadata": {},
   "source": [
    "### Результати експерименту\n",
    "\n",
    "| №  | Опис завдання                                                                                                     | pandas Час (с) | numpy Час (с)  | Оцінка pandas | Оцінка numpy | Коментар                                                                 |\n",
    "|----|-------------------------------------------------------------------------------------------------------------------|------------------|------------------|------------------|------------------|--------------------------------------------------------------------------|\n",
    "| 1  | Завантаження та очищення даних                                                                                    | 2.122            | 11.836           | 5                | 2                | pandas значно швидше і простіше для очищення                           |\n",
    "| 2  | Відбір Global_active_power > 5 кВт                                                                              | 0.009            | 0.026            | 5                | 4                | pandas зручніше, numpy трохи повільніше                              |\n",
    "| 3  | Відбір Voltage > 235 В                                                                                          | 0.179            | 0.208            | 4                | 4                | обидві структури показали подібну ефективність                           |\n",
    "| 4  | Струм 19–20 А, sub_metering_2 > sub_metering_3                                                                  | 0.013            | 0.056            | 5                | 3                | pandas простіше для комбінованих умов                                  |\n",
    "| 5  | Середні значення 3-х sub_metering для 500 000 випадкових записів                                                | 0.268            | 0.214            | 4                | 5                | numpy швидший при числовій агрегації                                   |\n",
    "| 6  | Фільтрація за часом, потужністю, приладами, з вибіркою кожного 3-го/4-го запису                                   | 6.442            | 1.482            | 2                | 5                | numpy значно швидший у складних умовах       |\n"
   ]
  }
 ],
 "metadata": {
  "kernelspec": {
   "display_name": ".venv",
   "language": "python",
   "name": "python3"
  },
  "language_info": {
   "codemirror_mode": {
    "name": "ipython",
    "version": 3
   },
   "file_extension": ".py",
   "mimetype": "text/x-python",
   "name": "python",
   "nbconvert_exporter": "python",
   "pygments_lexer": "ipython3",
   "version": "3.13.1"
  }
 },
 "nbformat": 4,
 "nbformat_minor": 2
}
